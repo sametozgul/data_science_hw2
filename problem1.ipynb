{
 "cells": [
  {
   "cell_type": "code",
   "execution_count": 1017,
   "metadata": {},
   "outputs": [],
   "source": [
    "import numpy as np\n",
    "import pandas as pd"
   ]
  },
  {
   "cell_type": "code",
   "execution_count": 1018,
   "metadata": {},
   "outputs": [],
   "source": [
    "data=pd.read_csv('fitbit.csv')"
   ]
  },
  {
   "cell_type": "code",
   "execution_count": 1019,
   "metadata": {},
   "outputs": [
    {
     "data": {
      "text/html": [
       "<div>\n",
       "<style scoped>\n",
       "    .dataframe tbody tr th:only-of-type {\n",
       "        vertical-align: middle;\n",
       "    }\n",
       "\n",
       "    .dataframe tbody tr th {\n",
       "        vertical-align: top;\n",
       "    }\n",
       "\n",
       "    .dataframe thead th {\n",
       "        text-align: right;\n",
       "    }\n",
       "</style>\n",
       "<table border=\"1\" class=\"dataframe\">\n",
       "  <thead>\n",
       "    <tr style=\"text-align: right;\">\n",
       "      <th></th>\n",
       "      <th>Date</th>\n",
       "      <th>Calories Burned</th>\n",
       "      <th>Steps</th>\n",
       "      <th>Distance</th>\n",
       "      <th>Floors</th>\n",
       "      <th>Minutes Sedentary</th>\n",
       "      <th>Minutes Lightly Active</th>\n",
       "      <th>Minutes Fairly Active</th>\n",
       "      <th>Minutes Very Active</th>\n",
       "      <th>Activity Calories</th>\n",
       "    </tr>\n",
       "  </thead>\n",
       "  <tbody>\n",
       "    <tr>\n",
       "      <th>0</th>\n",
       "      <td>7/07/2016</td>\n",
       "      <td>2,682</td>\n",
       "      <td>12,541</td>\n",
       "      <td>9.02</td>\n",
       "      <td>13</td>\n",
       "      <td>667</td>\n",
       "      <td>171</td>\n",
       "      <td>18</td>\n",
       "      <td>60</td>\n",
       "      <td>1,248</td>\n",
       "    </tr>\n",
       "    <tr>\n",
       "      <th>1</th>\n",
       "      <td>8/07/2016</td>\n",
       "      <td>2,423</td>\n",
       "      <td>8,029</td>\n",
       "      <td>5.70</td>\n",
       "      <td>35</td>\n",
       "      <td>760</td>\n",
       "      <td>208</td>\n",
       "      <td>13</td>\n",
       "      <td>6</td>\n",
       "      <td>928</td>\n",
       "    </tr>\n",
       "    <tr>\n",
       "      <th>2</th>\n",
       "      <td>9/07/2016</td>\n",
       "      <td>2,875</td>\n",
       "      <td>10,801</td>\n",
       "      <td>7.67</td>\n",
       "      <td>3</td>\n",
       "      <td>496</td>\n",
       "      <td>148</td>\n",
       "      <td>18</td>\n",
       "      <td>46</td>\n",
       "      <td>1,040</td>\n",
       "    </tr>\n",
       "    <tr>\n",
       "      <th>3</th>\n",
       "      <td>10/07/2016</td>\n",
       "      <td>2,638</td>\n",
       "      <td>11,997</td>\n",
       "      <td>8.52</td>\n",
       "      <td>22</td>\n",
       "      <td>771</td>\n",
       "      <td>248</td>\n",
       "      <td>3</td>\n",
       "      <td>27</td>\n",
       "      <td>1,285</td>\n",
       "    </tr>\n",
       "    <tr>\n",
       "      <th>4</th>\n",
       "      <td>11/07/2016</td>\n",
       "      <td>2,423</td>\n",
       "      <td>9,039</td>\n",
       "      <td>6.42</td>\n",
       "      <td>12</td>\n",
       "      <td>714</td>\n",
       "      <td>232</td>\n",
       "      <td>10</td>\n",
       "      <td>16</td>\n",
       "      <td>1,044</td>\n",
       "    </tr>\n",
       "  </tbody>\n",
       "</table>\n",
       "</div>"
      ],
      "text/plain": [
       "         Date Calories Burned   Steps  Distance  Floors  Minutes Sedentary  \\\n",
       "0   7/07/2016           2,682  12,541      9.02      13                667   \n",
       "1   8/07/2016           2,423   8,029      5.70      35                760   \n",
       "2   9/07/2016           2,875  10,801      7.67       3                496   \n",
       "3  10/07/2016           2,638  11,997      8.52      22                771   \n",
       "4  11/07/2016           2,423   9,039      6.42      12                714   \n",
       "\n",
       "   Minutes Lightly Active  Minutes Fairly Active  Minutes Very Active  \\\n",
       "0                     171                     18                   60   \n",
       "1                     208                     13                    6   \n",
       "2                     148                     18                   46   \n",
       "3                     248                      3                   27   \n",
       "4                     232                     10                   16   \n",
       "\n",
       "  Activity Calories  \n",
       "0             1,248  \n",
       "1               928  \n",
       "2             1,040  \n",
       "3             1,285  \n",
       "4             1,044  "
      ]
     },
     "execution_count": 1019,
     "metadata": {},
     "output_type": "execute_result"
    }
   ],
   "source": [
    "data.head()"
   ]
  },
  {
   "cell_type": "code",
   "execution_count": 1020,
   "metadata": {},
   "outputs": [],
   "source": [
    "data=data.drop(['Date'],axis=1)"
   ]
  },
  {
   "cell_type": "code",
   "execution_count": 1021,
   "metadata": {},
   "outputs": [
    {
     "data": {
      "text/html": [
       "<div>\n",
       "<style scoped>\n",
       "    .dataframe tbody tr th:only-of-type {\n",
       "        vertical-align: middle;\n",
       "    }\n",
       "\n",
       "    .dataframe tbody tr th {\n",
       "        vertical-align: top;\n",
       "    }\n",
       "\n",
       "    .dataframe thead th {\n",
       "        text-align: right;\n",
       "    }\n",
       "</style>\n",
       "<table border=\"1\" class=\"dataframe\">\n",
       "  <thead>\n",
       "    <tr style=\"text-align: right;\">\n",
       "      <th></th>\n",
       "      <th>Calories Burned</th>\n",
       "      <th>Steps</th>\n",
       "      <th>Distance</th>\n",
       "      <th>Floors</th>\n",
       "      <th>Minutes Sedentary</th>\n",
       "      <th>Minutes Lightly Active</th>\n",
       "      <th>Minutes Fairly Active</th>\n",
       "      <th>Minutes Very Active</th>\n",
       "      <th>Activity Calories</th>\n",
       "    </tr>\n",
       "  </thead>\n",
       "  <tbody>\n",
       "    <tr>\n",
       "      <th>0</th>\n",
       "      <td>2,682</td>\n",
       "      <td>12,541</td>\n",
       "      <td>9.02</td>\n",
       "      <td>13</td>\n",
       "      <td>667</td>\n",
       "      <td>171</td>\n",
       "      <td>18</td>\n",
       "      <td>60</td>\n",
       "      <td>1,248</td>\n",
       "    </tr>\n",
       "    <tr>\n",
       "      <th>1</th>\n",
       "      <td>2,423</td>\n",
       "      <td>8,029</td>\n",
       "      <td>5.70</td>\n",
       "      <td>35</td>\n",
       "      <td>760</td>\n",
       "      <td>208</td>\n",
       "      <td>13</td>\n",
       "      <td>6</td>\n",
       "      <td>928</td>\n",
       "    </tr>\n",
       "    <tr>\n",
       "      <th>2</th>\n",
       "      <td>2,875</td>\n",
       "      <td>10,801</td>\n",
       "      <td>7.67</td>\n",
       "      <td>3</td>\n",
       "      <td>496</td>\n",
       "      <td>148</td>\n",
       "      <td>18</td>\n",
       "      <td>46</td>\n",
       "      <td>1,040</td>\n",
       "    </tr>\n",
       "    <tr>\n",
       "      <th>3</th>\n",
       "      <td>2,638</td>\n",
       "      <td>11,997</td>\n",
       "      <td>8.52</td>\n",
       "      <td>22</td>\n",
       "      <td>771</td>\n",
       "      <td>248</td>\n",
       "      <td>3</td>\n",
       "      <td>27</td>\n",
       "      <td>1,285</td>\n",
       "    </tr>\n",
       "    <tr>\n",
       "      <th>4</th>\n",
       "      <td>2,423</td>\n",
       "      <td>9,039</td>\n",
       "      <td>6.42</td>\n",
       "      <td>12</td>\n",
       "      <td>714</td>\n",
       "      <td>232</td>\n",
       "      <td>10</td>\n",
       "      <td>16</td>\n",
       "      <td>1,044</td>\n",
       "    </tr>\n",
       "  </tbody>\n",
       "</table>\n",
       "</div>"
      ],
      "text/plain": [
       "  Calories Burned   Steps  Distance  Floors  Minutes Sedentary  \\\n",
       "0           2,682  12,541      9.02      13                667   \n",
       "1           2,423   8,029      5.70      35                760   \n",
       "2           2,875  10,801      7.67       3                496   \n",
       "3           2,638  11,997      8.52      22                771   \n",
       "4           2,423   9,039      6.42      12                714   \n",
       "\n",
       "   Minutes Lightly Active  Minutes Fairly Active  Minutes Very Active  \\\n",
       "0                     171                     18                   60   \n",
       "1                     208                     13                    6   \n",
       "2                     148                     18                   46   \n",
       "3                     248                      3                   27   \n",
       "4                     232                     10                   16   \n",
       "\n",
       "  Activity Calories  \n",
       "0             1,248  \n",
       "1               928  \n",
       "2             1,040  \n",
       "3             1,285  \n",
       "4             1,044  "
      ]
     },
     "execution_count": 1021,
     "metadata": {},
     "output_type": "execute_result"
    }
   ],
   "source": [
    "data.head()"
   ]
  },
  {
   "cell_type": "code",
   "execution_count": 1022,
   "metadata": {},
   "outputs": [],
   "source": [
    "X=data.drop(['Calories Burned'],axis=1)\n",
    "y=data['Calories Burned']"
   ]
  },
  {
   "cell_type": "code",
   "execution_count": 1023,
   "metadata": {},
   "outputs": [
    {
     "name": "stdout",
     "output_type": "stream",
     "text": [
      "Steps\n",
      "Distance\n",
      "Floors\n",
      "Minutes Sedentary\n",
      "Minutes Lightly Active\n",
      "Minutes Fairly Active\n",
      "Minutes Very Active\n",
      "Activity Calories\n"
     ]
    }
   ],
   "source": [
    "for column_names in X.columns:\n",
    "    X[column_names]=X[column_names].replace(',','',regex=True)\n",
    "    print(column_names)"
   ]
  },
  {
   "cell_type": "code",
   "execution_count": 1024,
   "metadata": {},
   "outputs": [],
   "source": [
    "y=y.replace(',','',regex=True)"
   ]
  },
  {
   "cell_type": "code",
   "execution_count": 1025,
   "metadata": {},
   "outputs": [],
   "source": [
    "from sklearn.feature_selection import SelectKBest\n",
    "from sklearn.feature_selection import mutual_info_regression"
   ]
  },
  {
   "cell_type": "code",
   "execution_count": 1026,
   "metadata": {},
   "outputs": [],
   "source": [
    "test=SelectKBest(score_func=mutual_info_regression,k=4)\n",
    "selections=test.fit_transform(X,y)\n",
    "filter=test.get_support()"
   ]
  },
  {
   "cell_type": "code",
   "execution_count": 1027,
   "metadata": {},
   "outputs": [
    {
     "data": {
      "text/plain": [
       "array(['Steps', 'Distance', 'Minutes Fairly Active', 'Activity Calories'],\n",
       "      dtype=object)"
      ]
     },
     "execution_count": 1027,
     "metadata": {},
     "output_type": "execute_result"
    }
   ],
   "source": [
    "features=np.array(X.columns)\n",
    "features[filter]"
   ]
  },
  {
   "cell_type": "code",
   "execution_count": 1028,
   "metadata": {},
   "outputs": [],
   "source": [
    "from sklearn.feature_selection import RFE\n",
    "from sklearn.linear_model import Ridge"
   ]
  },
  {
   "cell_type": "code",
   "execution_count": 1029,
   "metadata": {},
   "outputs": [],
   "source": [
    "\n",
    "rfe=RFE(Ridge(),n_features_to_select=4)"
   ]
  },
  {
   "cell_type": "code",
   "execution_count": 1030,
   "metadata": {},
   "outputs": [],
   "source": [
    "rfe_selection=rfe.fit(X,y)"
   ]
  },
  {
   "cell_type": "code",
   "execution_count": 1031,
   "metadata": {},
   "outputs": [
    {
     "data": {
      "text/plain": [
       "array([False,  True, False, False,  True,  True,  True, False])"
      ]
     },
     "execution_count": 1031,
     "metadata": {},
     "output_type": "execute_result"
    }
   ],
   "source": [
    "rfe_selection.support_"
   ]
  },
  {
   "cell_type": "code",
   "execution_count": 1032,
   "metadata": {},
   "outputs": [],
   "source": [
    "rfe_features=np.array(X.columns)[rfe_selection.support_]"
   ]
  },
  {
   "cell_type": "code",
   "execution_count": 1033,
   "metadata": {},
   "outputs": [
    {
     "data": {
      "text/plain": [
       "array(['Distance', 'Minutes Lightly Active', 'Minutes Fairly Active',\n",
       "       'Minutes Very Active'], dtype=object)"
      ]
     },
     "execution_count": 1033,
     "metadata": {},
     "output_type": "execute_result"
    }
   ],
   "source": [
    "rfe_features"
   ]
  }
 ],
 "metadata": {
  "interpreter": {
   "hash": "11f4f9e024f345a762b367b953dda8a9d0d73d0ed685f40724d283ac032facc1"
  },
  "kernelspec": {
   "display_name": "Python 3.10.4 64-bit ('sklearn-env': conda)",
   "language": "python",
   "name": "python3"
  },
  "language_info": {
   "codemirror_mode": {
    "name": "ipython",
    "version": 3
   },
   "file_extension": ".py",
   "mimetype": "text/x-python",
   "name": "python",
   "nbconvert_exporter": "python",
   "pygments_lexer": "ipython3",
   "version": "3.10.4"
  },
  "orig_nbformat": 4
 },
 "nbformat": 4,
 "nbformat_minor": 2
}
