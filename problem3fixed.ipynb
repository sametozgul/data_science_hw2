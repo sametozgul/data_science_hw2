{
 "cells": [
  {
   "cell_type": "code",
   "execution_count": 56,
   "metadata": {},
   "outputs": [],
   "source": [
    "import numpy as np\n",
    "import pandas as pd"
   ]
  },
  {
   "cell_type": "code",
   "execution_count": 57,
   "metadata": {},
   "outputs": [],
   "source": [
    "data=pd.read_csv('WA_Fn-UseC_-Telco-Customer-Churn.csv')"
   ]
  },
  {
   "cell_type": "code",
   "execution_count": 58,
   "metadata": {},
   "outputs": [],
   "source": [
    "data=data.drop(['customerID'],axis=1)"
   ]
  },
  {
   "cell_type": "code",
   "execution_count": 59,
   "metadata": {},
   "outputs": [],
   "source": [
    "data['TotalCharges']=data['TotalCharges'].apply(pd.to_numeric,errors='coerce')\n",
    "data.dropna(inplace=True)"
   ]
  },
  {
   "cell_type": "code",
   "execution_count": 60,
   "metadata": {},
   "outputs": [],
   "source": [
    "X=data.drop([\"Churn\"],axis=1)\n",
    "y=data.drop(X,axis=1)"
   ]
  },
  {
   "cell_type": "code",
   "execution_count": 61,
   "metadata": {},
   "outputs": [],
   "source": [
    "y['Churn'].replace(to_replace='Yes', value=1, inplace=True)\n",
    "y['Churn'].replace(to_replace='No',  value=0, inplace=True)\n",
    "y=y.values"
   ]
  },
  {
   "cell_type": "code",
   "execution_count": 62,
   "metadata": {},
   "outputs": [],
   "source": [
    "X=pd.get_dummies(X)"
   ]
  },
  {
   "cell_type": "code",
   "execution_count": 63,
   "metadata": {},
   "outputs": [],
   "source": [
    "from sklearn.linear_model import LogisticRegression\n",
    "from sklearn.tree import DecisionTreeClassifier\n",
    "from sklearn.svm import LinearSVC\n",
    "from sklearn.neighbors import KNeighborsClassifier\n",
    "from sklearn.neural_network import MLPClassifier\n",
    "from sklearn.model_selection import KFold\n",
    "from sklearn.preprocessing import MinMaxScaler,StandardScaler\n",
    "cv=KFold(n_splits=5,shuffle=True)"
   ]
  },
  {
   "cell_type": "code",
   "execution_count": 64,
   "metadata": {},
   "outputs": [
    {
     "name": "stdout",
     "output_type": "stream",
     "text": [
      "0.8057097697199511 0.8024763401039914\n",
      "0.9979024370976024 0.7259647707408902\n",
      "0.8038253379152348 0.8023316661965524\n",
      "0.8332976387407671 0.7539808577514784\n",
      "0.8817902215902358 0.7649328039744379\n"
     ]
    }
   ],
   "source": [
    "pipe=[LogisticRegression(max_iter=500),DecisionTreeClassifier(),LinearSVC(),KNeighborsClassifier(),MLPClassifier(max_iter=1000)]\n",
    "features = X.columns.values\n",
    "scaler = MinMaxScaler(feature_range = (0,1))\n",
    "scaler.fit(X)\n",
    "X = pd.DataFrame(scaler.transform(X))\n",
    "X.columns = features\n",
    "train_scores=[]\n",
    "test_scores=[]\n",
    "train_scores_mean=[]\n",
    "test_scores_mean=[]\n",
    "for models in pipe:\n",
    "    for train,test in cv.split(X,y):\n",
    "        model=models.fit(X.values[train],y.ravel()[train])\n",
    "        train_score=model.score(X.values[train],y[train])\n",
    "        test_score=model.score(X.values[test],y[test])\n",
    "        train_scores.append(train_score)\n",
    "        test_scores.append(test_score)\n",
    "    print(np.mean(np.array(train_scores)),np.mean(np.array(test_scores)))\n",
    "    train_scores_mean.append(np.mean(np.array(train_scores)))\n",
    "    test_scores_mean.append(np.mean(np.array(test_scores)))\n",
    "    test_scores.clear()\n",
    "    train_scores.clear()\n",
    "\n"
   ]
  },
  {
   "cell_type": "code",
   "execution_count": 70,
   "metadata": {},
   "outputs": [
    {
     "name": "stderr",
     "output_type": "stream",
     "text": [
      "/tmp/ipykernel_5683/187749395.py:9: FutureWarning: this method is deprecated in favour of `Styler.hide(axis='index')`\n",
      "  display(left_aligned_df.hide_index())\n"
     ]
    },
    {
     "data": {
      "text/html": [
       "<style type=\"text/css\">\n",
       "#T_4f7cf_row0_col0, #T_4f7cf_row0_col1, #T_4f7cf_row0_col2, #T_4f7cf_row1_col0, #T_4f7cf_row1_col1, #T_4f7cf_row1_col2, #T_4f7cf_row2_col0, #T_4f7cf_row2_col1, #T_4f7cf_row2_col2, #T_4f7cf_row3_col0, #T_4f7cf_row3_col1, #T_4f7cf_row3_col2, #T_4f7cf_row4_col0, #T_4f7cf_row4_col1, #T_4f7cf_row4_col2 {\n",
       "  text-align: left;\n",
       "}\n",
       "</style>\n",
       "<table id=\"T_4f7cf\">\n",
       "  <thead>\n",
       "    <tr>\n",
       "      <th id=\"T_4f7cf_level0_col0\" class=\"col_heading level0 col0\" >models</th>\n",
       "      <th id=\"T_4f7cf_level0_col1\" class=\"col_heading level0 col1\" >train</th>\n",
       "      <th id=\"T_4f7cf_level0_col2\" class=\"col_heading level0 col2\" >test</th>\n",
       "    </tr>\n",
       "  </thead>\n",
       "  <tbody>\n",
       "    <tr>\n",
       "      <td id=\"T_4f7cf_row0_col0\" class=\"data row0 col0\" >LogisticRegression</td>\n",
       "      <td id=\"T_4f7cf_row0_col1\" class=\"data row0 col1\" >0.805710</td>\n",
       "      <td id=\"T_4f7cf_row0_col2\" class=\"data row0 col2\" >0.802476</td>\n",
       "    </tr>\n",
       "    <tr>\n",
       "      <td id=\"T_4f7cf_row1_col0\" class=\"data row1 col0\" >DecisionTreeClassifier</td>\n",
       "      <td id=\"T_4f7cf_row1_col1\" class=\"data row1 col1\" >0.997902</td>\n",
       "      <td id=\"T_4f7cf_row1_col2\" class=\"data row1 col2\" >0.725965</td>\n",
       "    </tr>\n",
       "    <tr>\n",
       "      <td id=\"T_4f7cf_row2_col0\" class=\"data row2 col0\" >LinearSVC</td>\n",
       "      <td id=\"T_4f7cf_row2_col1\" class=\"data row2 col1\" >0.803825</td>\n",
       "      <td id=\"T_4f7cf_row2_col2\" class=\"data row2 col2\" >0.802332</td>\n",
       "    </tr>\n",
       "    <tr>\n",
       "      <td id=\"T_4f7cf_row3_col0\" class=\"data row3 col0\" >KNeighborsClassifier</td>\n",
       "      <td id=\"T_4f7cf_row3_col1\" class=\"data row3 col1\" >0.833298</td>\n",
       "      <td id=\"T_4f7cf_row3_col2\" class=\"data row3 col2\" >0.753981</td>\n",
       "    </tr>\n",
       "    <tr>\n",
       "      <td id=\"T_4f7cf_row4_col0\" class=\"data row4 col0\" >MLPClassifier</td>\n",
       "      <td id=\"T_4f7cf_row4_col1\" class=\"data row4 col1\" >0.881790</td>\n",
       "      <td id=\"T_4f7cf_row4_col2\" class=\"data row4 col2\" >0.764933</td>\n",
       "    </tr>\n",
       "  </tbody>\n",
       "</table>\n"
      ],
      "text/plain": [
       "<pandas.io.formats.style.Styler at 0x7fee56bd3f10>"
      ]
     },
     "metadata": {},
     "output_type": "display_data"
    }
   ],
   "source": [
    "df1=pd.DataFrame({\"models\":[\"LogisticRegression\",\n",
    "                            \"DecisionTreeClassifier\",\n",
    "                            \"LinearSVC\",\n",
    "                            \"KNeighborsClassifier\",\n",
    "                            \"MLPClassifier\"],\n",
    "                \"train\":train_scores_mean,\n",
    "                \"test\":test_scores_mean})\n",
    "left_aligned_df = df1.style.set_properties(**{'text-align': 'left'})\n",
    "display(left_aligned_df.hide_index())\n"
   ]
  }
 ],
 "metadata": {
  "interpreter": {
   "hash": "11f4f9e024f345a762b367b953dda8a9d0d73d0ed685f40724d283ac032facc1"
  },
  "kernelspec": {
   "display_name": "Python 3.10.4 64-bit ('sklearn-env': conda)",
   "language": "python",
   "name": "python3"
  },
  "language_info": {
   "codemirror_mode": {
    "name": "ipython",
    "version": 3
   },
   "file_extension": ".py",
   "mimetype": "text/x-python",
   "name": "python",
   "nbconvert_exporter": "python",
   "pygments_lexer": "ipython3",
   "version": "3.10.4"
  },
  "orig_nbformat": 4
 },
 "nbformat": 4,
 "nbformat_minor": 2
}
